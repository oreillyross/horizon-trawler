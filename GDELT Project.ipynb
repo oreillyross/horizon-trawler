{
 "cells": [
  {
   "cell_type": "code",
   "execution_count": 6,
   "id": "d742e467",
   "metadata": {},
   "outputs": [],
   "source": [
    "from io import BytesIO\n",
    "import io\n",
    "import requests, zipfile\n",
    "\n",
    "def downloadLatestGDELTSources(url):\n",
    "    \n",
    "    response = requests.get(url)\n",
    "\n",
    "    data = response.text\n",
    "    lines = data.split(\"\\n\")\n",
    "\n",
    "    labels = [\"id\", \"uid\", \"url\"]\n",
    "    sources = []\n",
    "    for line in lines:\n",
    "        source = dict(zip(labels, line.split(\" \")))\n",
    "        sources.append(source)\n",
    "\n",
    "    r = requests.get(sources[0][\"url\"], stream=True)\n",
    "    z = zipfile.ZipFile(BytesIO(r.content))\n",
    "    z.extractall(\".\")\n",
    "\n",
    "    "
   ]
  },
  {
   "cell_type": "code",
   "execution_count": 9,
   "id": "e6f49444",
   "metadata": {},
   "outputs": [],
   "source": [
    "gdelt_lastupdate_page = \"http://data.gdeltproject.org/gdeltv2/lastupdate.txt\"\n",
    "downloadLatestGDELTSources(gdelt_lastupdate_page)\n"
   ]
  },
  {
   "cell_type": "code",
   "execution_count": null,
   "id": "d048d7d1",
   "metadata": {},
   "outputs": [],
   "source": []
  },
  {
   "cell_type": "code",
   "execution_count": null,
   "id": "4a127472",
   "metadata": {},
   "outputs": [],
   "source": []
  },
  {
   "cell_type": "code",
   "execution_count": null,
   "id": "22a3585a",
   "metadata": {},
   "outputs": [],
   "source": []
  },
  {
   "cell_type": "code",
   "execution_count": null,
   "id": "0be69f73",
   "metadata": {},
   "outputs": [],
   "source": []
  },
  {
   "cell_type": "code",
   "execution_count": null,
   "id": "9230173f",
   "metadata": {},
   "outputs": [],
   "source": []
  }
 ],
 "metadata": {
  "kernelspec": {
   "display_name": "Python 3 (ipykernel)",
   "language": "python",
   "name": "python3"
  },
  "language_info": {
   "codemirror_mode": {
    "name": "ipython",
    "version": 3
   },
   "file_extension": ".py",
   "mimetype": "text/x-python",
   "name": "python",
   "nbconvert_exporter": "python",
   "pygments_lexer": "ipython3",
   "version": "3.10.9"
  }
 },
 "nbformat": 4,
 "nbformat_minor": 5
}
